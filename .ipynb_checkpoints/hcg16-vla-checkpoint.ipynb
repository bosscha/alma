{
 "cells": [
  {
   "cell_type": "code",
   "execution_count": 1,
   "metadata": {},
   "outputs": [
    {
     "data": {
      "text/plain": [
       "<function tclean.tclean>"
      ]
     },
     "execution_count": 1,
     "metadata": {},
     "output_type": "execute_result"
    }
   ],
   "source": [
    "#Import data\n",
    "importuvfits(fitsfile=\"HCG16-C_HI.SPLIT.1\",vis=\"HCG16-C_HI.SPLIT.1.ms\",antnamescheme=\"old\")\n",
    "importuvfits(fitsfile=\"HCG16-D_HI.SPLIT.1\",vis=\"HCG16-D_HI.SPLIT.1.ms\",antnamescheme=\"old\")\n",
    "\n",
    "\n",
    "#Re-grid the data in the baryocentric frame\n",
    "cvel(vis=\"HCG16-C_HI.SPLIT.1.ms\",outputvis=\"HCG16-C_HI.SPLIT.1.ms.bary\",passall=False,field=\"\",spw=\"\",\n",
    "selectdata=True,antenna=\"\",timerange=\"\",scan=\"\",array=\"\",\n",
    "mode=\"velocity\",nchan=-1,start=0,width=1,interpolation=\"linear\",\n",
    "phasecenter=\"\",restfreq=\"1420405751.786Hz\",outframe=\"bary\",veltype=\"radio\",hanning=False)\n",
    "\n",
    "cvel(vis=\"HCG16-D_HI.SPLIT.1.ms\",outputvis=\"HCG16-D_HI.SPLIT.1.ms.bary\",passall=False,field=\"\",spw=\"\",\n",
    "selectdata=True,antenna=\"\",timerange=\"\",scan=\"\",array=\"\",\n",
    "mode=\"velocity\",nchan=-1,start=0,width=1,interpolation=\"linear\",\n",
    "phasecenter=\"\",restfreq=\"1420405751.786Hz\",outframe=\"bary\",veltype=\"radio\",hanning=False)\n",
    "\n",
    "\n",
    "#Subtract the continuum\n",
    "uvcontsub(vis=\"HCG16-C_HI.SPLIT.1.ms.bary\",field=\"HCG16\",fitspw=\"0:4~8;51~56\",excludechans=False,combine=\"\",\n",
    "solint=\"int\",fitorder=1,spw=\"\",want_cont=True)\n",
    "\n",
    "uvcontsub(vis=\"HCG16-D_HI.SPLIT.1.ms.bary\",field=\"HCG16\",fitspw=\"0:4~8;51~56\",excludechans=False,combine=\"\",\n",
    "solint=\"int\",fitorder=1,spw=\"\",want_cont=True)\n",
    "\n",
    "\n",
    "#CLEAN and produce moment 0 map\n",
    "tclean(vis=['HCG16-C_HI.SPLIT.1.ms.bary.contsub', 'HCG16-D_HI.SPLIT.1.ms.bary.contsub'],selectdata=True,field=\"HCG16\",spw=\"0:12~50\",timerange=\"\",\n",
    "uvrange=\"\",antenna=\"\",scan=\"\",observation=\"\",intent=\"\",\n",
    "datacolumn=\"corrected\",imagename=\"HCG16_nat_MS_large_manmask\",imsize=[1024, 1024],cell=\"4arcsec\",phasecenter=\"\",\n",
    "stokes=\"I\",projection=\"SIN\",startmodel=\"\",specmode=\"cube\",reffreq=\"\",\n",
    "nchan=-1,start=0,width=1,outframe=\"bary\",veltype=\"radio\",\n",
    "restfreq=\"1420405751.786Hz\",interpolation=\"linear\",gridder=\"wproject\",facets=1,chanchunks=1,\n",
    "wprojplanes=128,vptable=\"\",aterm=True,psterm=False,wbawp=True,\n",
    "conjbeams=False,cfcache=\"\",computepastep=360.0,rotatepastep=360.0,pblimit=0,\n",
    "normtype=\"flatnoise\",deconvolver=\"multiscale\",scales=[0,8,16,24,40],nterms=2,smallscalebias=0.6,\n",
    "restoration=True,restoringbeam=[],pbcor=False,outlierfile=\"\",weighting=\"natural\",\n",
    "robust=2.0,npixels=0,uvtaper=[],niter=10000,gain=0.1,\n",
    "threshold=\"1.125mJy\",cycleniter=-1,cyclefactor=2.0,minpsffraction=0.05,maxpsffraction=0.8,\n",
    "interactive=False,usemask=\"user\",mask=\"HCG16_rob2_MS_manthresh.mask\",pbmask=0.2,maskthreshold=\"\",\n",
    "maskresolution=\"\",nmask=0,sidelobethreshold=3.0,noisethreshold=3.0,lownoisethreshold=1.5,\n",
    "negativethreshold=0.0,smoothfactor=5.0,minbeamfrac=0.3,cutthreshold=0.1,growiterations=200,\n",
    "restart=True,savemodel=\"none\",calcres=True,calcpsf=True,parallel=False)\n",
    "\n",
    "immoments(imagename=\"HCG16_nat_MS_large_manmask.image\",moments=[0],axis=\"spectral\",region=\"\",box=\"\",\n",
    "chans=\"12~50\",stokes=\"I\",mask=\"\",includepix=-1,excludepix=-1,\n",
    "outfile=\"HCG16_nat_MS_large_manmask.mom0\",stretch=False)"
   ]
  }
 ],
 "metadata": {
  "kernelspec": {
   "display_name": "Casa",
   "language": "casa",
   "name": "casapy"
  },
  "language_info": {
   "mimetype": "text/plain",
   "name": "Casa"
  }
 },
 "nbformat": 4,
 "nbformat_minor": 2
}
