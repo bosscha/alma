{
 "cells": [
  {
   "cell_type": "markdown",
   "metadata": {},
   "source": [
    "# ALMA configuration tests\n",
    "\n",
    "Date   : 28/05/2018 <br> \n",
    "Author : SL  <br>\n",
    "Code   : https://github.com/bosscha/alma"
   ]
  },
  {
   "cell_type": "markdown",
   "metadata": {},
   "source": [
    "## Scope\n",
    "\n",
    "Analysis of ALMA configuration with the 7m+12m configurations together <br>\n",
    "\n",
    "**Steps:**\n",
    "1. Create the array configuration combining ACA-std.cfg with C43-x.cfg into AFC-x  (ALMA Full Configuration) <br>\n",
    "2. Run the Simulations with the Halpha emission in M51 on AFC-x and 7m/C43-x separately.  Note that a time ratio of 1h:5h is taken for the separate case.<br>\n",
    "3. The fidelity f of the images is analyzed to compare the two options. As a reminder for the fidelity definition: <br>\n",
    "$$ f = \\lvert \\frac{I}{I-O} \\rvert $$ <br>\n",
    "where I is the original image convoluted to the spatial resolution and O the simulated image. <br>\n",
    "4. We compute the density rho of the fidelity f and the different moments of:\n",
    "$$ M_i(\\rho) = \\int f^i \\rho(f) df $$ <br>\n",
    "and the **Mutual Information I**: <br>\n",
    "$$  I(x,y) = \\sum_{x,y} P(x,y) \\ln {{P(x,y)}\\over{P(x) P(y)}} $$\n",
    "The sum excludes terms with P(x,y)=0. The base 2 logarithm is often used, in which case result is in units of bits. The natural logarithm can alternatively be used, in which case the result is in units of nats. In this notebook we use the natural log.<br>\n",
    "<br>\n",
    "We compute the mutual information between the original image *x* convolved by the synthesized beam and the simulated image *y*. This is a metric for the adequation of the simulated image wrt. the original image. The higher the mutual information the closer the simulated image is. <br>\n",
    "\n",
    "How to reproduce it: \n",
    "- > casa -c runSimulations.py   ## script in src/run  with array configuration file in notebooks/data and results in notebooks/results\n",
    "- run locally the notebook AFC-simul.ipynb  after cloning (git clone https://github.com/bosscha/alma master)\n"
   ]
  },
  {
   "cell_type": "code",
   "execution_count": 1,
   "metadata": {},
   "outputs": [],
   "source": [
    "import os, shutil , glob\n",
    "import matplotlib.pyplot as pl\n",
    "from pylab import rcParams\n",
    "import numpy as np\n",
    "import math\n",
    "\n",
    "from astropy.io import fits\n",
    "from astropy.stats import histogram\n",
    "from astropy.wcs import WCS\n",
    "\n",
    "%matplotlib inline\n"
   ]
  },
  {
   "cell_type": "code",
   "execution_count": 2,
   "metadata": {
    "scrolled": true
   },
   "outputs": [],
   "source": [
    "## Run the simulation locally.\n",
    "## Be patient ...\n",
    "\n",
    "# os.system(\"casa -c ../src/run/runSimulations.py\")"
   ]
  },
  {
   "cell_type": "code",
   "execution_count": 3,
   "metadata": {},
   "outputs": [],
   "source": [
    "def integrate(rho,xmin, dx):\n",
    "    \"the different moment of a density function\"\n",
    "    \n",
    "    moment = np.array([0.,0.,0.,0., 0.])\n",
    "    kb = -1.\n",
    "    \n",
    "    x= xmin\n",
    "    for i in range(len(rho)):\n",
    "        moment[0] += rho[i]*dx\n",
    "        moment[1] += x*rho[i] *dx\n",
    "        moment[2] += x*x*rho[i]*dx\n",
    "        moment[3] += x*x*x*rho[i]*dx\n",
    "        if rho[i] > 0.:\n",
    "            moment[4] +=  kb * rho[i] * math.log(rho[i]) * dx\n",
    "        x += dx\n",
    "        \n",
    "    return(moment)\n",
    "        "
   ]
  },
  {
   "cell_type": "code",
   "execution_count": 4,
   "metadata": {},
   "outputs": [],
   "source": [
    "def MutualInformation(im1, im2, binsize = 20):\n",
    "    \"Compute the mutual information between im1 and im2. It is an entropy-based metric.\"\n",
    "    \n",
    "    \n",
    "    hgram, x_edges, y_edges = np.histogram2d(im1.ravel(), im2.ravel(), bins = binsize)\n",
    "    \n",
    "    pxy = hgram / float(np.sum(hgram))\n",
    "    px = np.sum(pxy, axis=1) # marginal for x over y\n",
    "    py = np.sum(pxy, axis=0) # marginal for y over x\n",
    "    px_py = px[:, None] * py[None, :]\n",
    "    nzs = pxy > 0 # Only non-zero pxy values contribute to the sum\n",
    "    mi = np.sum(pxy[nzs] * np.log(pxy[nzs] / px_py[nzs]))\n",
    "    \n",
    "    return(mi)"
   ]
  },
  {
   "cell_type": "code",
   "execution_count": 5,
   "metadata": {},
   "outputs": [],
   "source": [
    "## Analysis function\n",
    "\n",
    "def analysis_image(index, caption):\n",
    "    \n",
    "    sim1 = \"AFC-%d.alma.afc-%d.image.fits\"%(index, index)\n",
    "    fid1  = \"AFC-%d.alma.afc-%d.fidelity.fits\"%(index, index)\n",
    "    model1 = \"AFC-%d.alma.afc-%d.skymodel.flat.regrid.conv.fits\"%(index, index)\n",
    "    \n",
    "    sim2 = \"C43-%d+ACA.concat.image.fits\"%(index)\n",
    "    fid2  =  \"C43-%d+ACA.concat.fidelity.fits\"%(index)\n",
    "    model2 = \"C43-%d+ACA.concat.skymodel.flat.regrid.conv.fits\"%(index)\n",
    "    \n",
    "    nbin = 500\n",
    "    fmax = 1.5\n",
    "    mibin = 20\n",
    "    \n",
    "    with fits.open(model1) as m1:\n",
    "        in1 = m1[0].data\n",
    "        \n",
    "    with fits.open(sim1) as s1:\n",
    "        out1 = s1[0].data \n",
    "        \n",
    "    with fits.open(fid1) as hf1:\n",
    "        datf1 = hf1[0].data      \n",
    "        rhof1 = histogram(datf1,bins = nbin , range = [0.,fmax], density = True)\n",
    "        mom1 = integrate(rhof1[0], 0. , fmax/nbin)\n",
    "     \n",
    "    mi1 = MutualInformation(in1, out1, mibin) \n",
    "\n",
    "    with fits.open(model2) as m2:\n",
    "        in2 = m2[0].data\n",
    "        \n",
    "    with fits.open(sim2) as s2:\n",
    "        out2 = s2[0].data \n",
    "        \n",
    "    with fits.open(fid2) as hf2:\n",
    "        datf2 = hf2[0].data\n",
    "        rhof2 = histogram(datf2,bins = nbin , range = [0.,fmax], density = True)\n",
    "        mom2 = integrate(rhof2[0], 0. , fmax/nbin)     \n",
    "     \n",
    "    mi2 = MutualInformation(in2, out2, mibin) \n",
    "    \n",
    "    rcParams['figure.figsize'] = 7, 5\n",
    "\n",
    "    pl.plot(rhof1[1][0:-1],rhof1[0], \"b-\", label=\"AFC-%d\"%(index))\n",
    "    pl.plot(rhof2[1][0:-1],rhof2[0], \"r--\",label=\"C43-%d+ACA\"%(index))\n",
    "    pl.ylabel(r\"$\\rho(f)$\")\n",
    "    pl.xlabel(r\"$f$\")\n",
    "    pl.xlim([0.,fmax])\n",
    "    pl.ylim([0.,15.])\n",
    "    pl.legend(loc = \"upper right\")            \n",
    "\n",
    "    pl.show()\n",
    "        \n",
    "    print(r\"## Simulation: AFC-%d\"%(index))\n",
    "    print(\"## M1 : %f\"%(mom1[1]))\n",
    "    print(\"## M2 : %f\"%(mom1[2]))\n",
    "    print(\"## M3 : %f\"%(mom1[3]))\n",
    "    print(\"## I : %f nats\"%(mi1))\n",
    "    print(\"\")\n",
    "    print(r\"## Simulation: C43-%d+ACA\"%(index))\n",
    "    print(\"## M1 : %f\"%(mom2[1]))\n",
    "    print(\"## M2 : %f\"%(mom2[2]))\n",
    "    print(\"## M3 : %f\"%(mom2[3]))\n",
    "    print(\"## I  : %f nats\"%(mi2))\n",
    "    print(\"\\n I ratio: %f\"%(mi1/mi2))\n"
   ]
  },
  {
   "cell_type": "markdown",
   "metadata": {},
   "source": [
    "## Analysis ..."
   ]
  },
  {
   "cell_type": "code",
   "execution_count": 6,
   "metadata": {},
   "outputs": [],
   "source": [
    "wdir = \"/home/stephane/Science/ALMA/ArrayConfig/imaging/fullcombination/master/notebooks/products\"\n",
    "os.chdir(wdir)"
   ]
  },
  {
   "cell_type": "markdown",
   "metadata": {},
   "source": [
    "-------------------------\n",
    "## AFC-1 vs. C43-1+7m"
   ]
  },
  {
   "cell_type": "code",
   "execution_count": 7,
   "metadata": {
    "scrolled": true
   },
   "outputs": [
    {
     "data": {
      "image/png": "[encoded data removed]",
      "text/plain": [
       "<matplotlib.figure.Figure at 0x7f01faa2b668>"
      ]
     },
     "metadata": {},
     "output_type": "display_data"
    },
    {
     "name": "stdout",
     "output_type": "stream",
     "text": [
      "## Simulation: AFC-1\n",
      "## M1 : 0.609959\n",
      "## M2 : 0.443455\n",
      "## M3 : 0.383288\n",
      "## I : 0.445587 nats\n",
      "\n",
      "## Simulation: C43-1+ACA\n",
      "## M1 : 0.495789\n",
      "## M2 : 0.336516\n",
      "## M3 : 0.298847\n",
      "## I  : 0.531178 nats\n",
      "\n",
      " I ratio: 0.838866\n"
     ]
    }
   ],
   "source": [
    "analysis_image(1,\"AFC-1\")"
   ]
  },
  {
   "cell_type": "markdown",
   "metadata": {},
   "source": [
    "**Beam properties: AFC-1**"
   ]
  },
  {
   "cell_type": "code",
   "execution_count": 8,
   "metadata": {},
   "outputs": [
    {
     "name": "stdout",
     "output_type": "stream",
     "text": [
      "## Project: AFC-1 \n",
      "## \n",
      "## Sidelobe  : 7.319113 \n",
      "## Major axis: 3.642370 \n",
      "## Minor axis: 2.172362 \n",
      "## AR: 2.812925 \n",
      "-------------\n",
      "\n"
     ]
    }
   ],
   "source": [
    "f = open(\"AFC-1-beam.txt\")\n",
    "print(f.read())\n",
    "f.close()"
   ]
  },
  {
   "cell_type": "markdown",
   "metadata": {},
   "source": [
    "**Beam properties: C43-1+ACA**"
   ]
  },
  {
   "cell_type": "code",
   "execution_count": 9,
   "metadata": {},
   "outputs": [
    {
     "name": "stdout",
     "output_type": "stream",
     "text": [
      "## Project: C43-1+ACA \n",
      "## \n",
      "## Sidelobe  : 7.389624 \n",
      "## Major axis: 3.609602 \n",
      "## Minor axis: 3.547820 \n",
      "## AR: 3.578577 \n",
      "-------------\n",
      "\n"
     ]
    }
   ],
   "source": [
    "f = open(\"C43-1+ACA-beam.txt\")\n",
    "print(f.read())\n",
    "f.close()"
   ]
  },
  {
   "cell_type": "markdown",
   "metadata": {},
   "source": [
    "### Notes\n",
    "\n",
    "**Critical antennas** (20): <br>\n",
    "**AFC-1**: A011 [100.00 %]  J505 [94.79 %]  A033 [23.25 %]  A049 [14.63 %]  A044 [11.29 %]  A015 [8.26 %]  J504 [8.06 %]  N602 [7.12 %]  J506 [6.99 %]  A007 [5.83 %]  N601 [5.25 %]  N604 [4.91 %]  A027 [4.54 %]  N606 [4.18 %]  A047 [4.12 %]  A005 [4.04 %]  A006 [3.99 %]  A038 [3.82 %]  A045 [3.63 %]  A031 [3.61 %] <br>\n",
    "<br>\n",
    "**C43-1** : A028 [100.00 %]  A047 [99.26 %]  A033 [41.85 %]  A049 [35.19 %]  A007 [13.56 %]  A016 [10.60 %]  A015 [10.47 %]  A024 [10.15 %]  A023 [9.54 %]  A027 [9.35 %]  A011 [9.19 %]  A045 [9.10 %]  A005 [8.96 %]  A008 [8.65 %]  A022 [8.42 %]  A006 [8.42 %]  A010 [8.26 %]  A038 [8.23 %]  A043 [8.22 %]  A044 [7.90 %]  \n"
   ]
  },
  {
   "cell_type": "markdown",
   "metadata": {},
   "source": [
    "----------------------------\n",
    "## AFC-2 vs. C43-2+7m"
   ]
  },
  {
   "cell_type": "code",
   "execution_count": 10,
   "metadata": {
    "scrolled": true
   },
   "outputs": [
    {
     "data": {
      "image/png": "[encoded data removed]",
      "text/plain": [
       "<matplotlib.figure.Figure at 0x7f01faa155f8>"
      ]
     },
     "metadata": {},
     "output_type": "display_data"
    },
    {
     "name": "stdout",
     "output_type": "stream",
     "text": [
      "## Simulation: AFC-2\n",
      "## M1 : 0.540857\n",
      "## M2 : 0.365275\n",
      "## M3 : 0.306409\n",
      "## I : 0.415532 nats\n",
      "\n",
      "## Simulation: C43-2+ACA\n",
      "## M1 : 0.422373\n",
      "## M2 : 0.261213\n",
      "## M3 : 0.223234\n",
      "## I  : 0.500798 nats\n",
      "\n",
      " I ratio: 0.829739\n"
     ]
    }
   ],
   "source": [
    "analysis_image(2,\"AFC-2\")"
   ]
  },
  {
   "cell_type": "markdown",
   "metadata": {},
   "source": [
    "**Beam properties: AFC-2**"
   ]
  },
  {
   "cell_type": "code",
   "execution_count": 11,
   "metadata": {},
   "outputs": [
    {
     "name": "stdout",
     "output_type": "stream",
     "text": [
      "## Project: AFC-2 \n",
      "## \n",
      "## Sidelobe  : 9.423035 \n",
      "## Major axis: 2.592033 \n",
      "## Minor axis: 1.801081 \n",
      "## AR: 2.160662 \n",
      "-------------\n",
      "\n"
     ]
    }
   ],
   "source": [
    "f = open(\"AFC-2-beam.txt\")\n",
    "print(f.read())\n",
    "f.close()"
   ]
  },
  {
   "cell_type": "markdown",
   "metadata": {},
   "source": [
    "**Beam properties: C43-2+ACA**"
   ]
  },
  {
   "cell_type": "code",
   "execution_count": 12,
   "metadata": {},
   "outputs": [
    {
     "name": "stdout",
     "output_type": "stream",
     "text": [
      "## Project: C43-2+ACA \n",
      "## \n",
      "## Sidelobe  : 8.768897 \n",
      "## Major axis: 2.579238 \n",
      "## Minor axis: 2.494306 \n",
      "## AR: 2.536417 \n",
      "-------------\n",
      "\n"
     ]
    }
   ],
   "source": [
    "f = open(\"C43-2+ACA-beam.txt\")\n",
    "print(f.read())\n",
    "f.close()"
   ]
  },
  {
   "cell_type": "markdown",
   "metadata": {},
   "source": [
    "-------------------------\n",
    "## AFC-3 vs. C43-3+7m"
   ]
  },
  {
   "cell_type": "code",
   "execution_count": 13,
   "metadata": {
    "scrolled": false
   },
   "outputs": [
    {
     "data": {
      "image/png": "[encoded data removed]",
      "text/plain": [
       "<matplotlib.figure.Figure at 0x7f01f9d5f470>"
      ]
     },
     "metadata": {},
     "output_type": "display_data"
    },
    {
     "name": "stdout",
     "output_type": "stream",
     "text": [
      "## Simulation: AFC-3\n",
      "## M1 : 0.437698\n",
      "## M2 : 0.267166\n",
      "## M3 : 0.220595\n",
      "## I : 0.357273 nats\n",
      "\n",
      "## Simulation: C43-3+ACA\n",
      "## M1 : 0.304050\n",
      "## M2 : 0.182660\n",
      "## M3 : 0.166344\n",
      "## I  : 0.335448 nats\n",
      "\n",
      " I ratio: 1.065065\n"
     ]
    }
   ],
   "source": [
    "analysis_image(3,\"AFC-3\")"
   ]
  },
  {
   "cell_type": "markdown",
   "metadata": {},
   "source": [
    "**Beam properties: AFC-3**"
   ]
  },
  {
   "cell_type": "code",
   "execution_count": 14,
   "metadata": {},
   "outputs": [
    {
     "name": "stdout",
     "output_type": "stream",
     "text": [
      "## Project: AFC-3 \n",
      "## \n",
      "## Sidelobe  : 8.653451 \n",
      "## Major axis: 1.665849 \n",
      "## Minor axis: 1.335287 \n",
      "## AR: 1.491438 \n",
      "-------------\n",
      "\n"
     ]
    }
   ],
   "source": [
    "f = open(\"AFC-3-beam.txt\")\n",
    "print(f.read())\n",
    "f.close()"
   ]
  },
  {
   "cell_type": "markdown",
   "metadata": {},
   "source": [
    "**Beam properties: C43-3+ACA**"
   ]
  },
  {
   "cell_type": "code",
   "execution_count": 15,
   "metadata": {},
   "outputs": [
    {
     "name": "stdout",
     "output_type": "stream",
     "text": [
      "## Project: C43-3+ACA \n",
      "## \n",
      "## Sidelobe  : 8.655073 \n",
      "## Major axis: 1.669455 \n",
      "## Minor axis: 1.507637 \n",
      "## AR: 1.586484 \n",
      "-------------\n",
      "\n"
     ]
    }
   ],
   "source": [
    "f = open(\"C43-3+ACA-beam.txt\")\n",
    "print(f.read())\n",
    "f.close()"
   ]
  },
  {
   "cell_type": "markdown",
   "metadata": {},
   "source": [
    "-------------------------\n",
    "## AFC-4 vs. C43-4+7m"
   ]
  },
  {
   "cell_type": "code",
   "execution_count": 16,
   "metadata": {
    "scrolled": false
   },
   "outputs": [
    {
     "data": {
      "image/png": "[encoded data removed]",
      "text/plain": [
       "<matplotlib.figure.Figure at 0x7f01f9479978>"
      ]
     },
     "metadata": {},
     "output_type": "display_data"
    },
    {
     "name": "stdout",
     "output_type": "stream",
     "text": [
      "## Simulation: AFC-4\n",
      "## M1 : 0.319817\n",
      "## M2 : 0.176820\n",
      "## M3 : 0.148203\n",
      "## I : 0.294590 nats\n",
      "\n",
      "## Simulation: C43-4+ACA\n",
      "## M1 : 0.173530\n",
      "## M2 : 0.083794\n",
      "## M3 : 0.067142\n",
      "## I  : 0.213304 nats\n",
      "\n",
      " I ratio: 1.381081\n"
     ]
    }
   ],
   "source": [
    "analysis_image(4,\"AFC-4\")"
   ]
  },
  {
   "cell_type": "markdown",
   "metadata": {},
   "source": [
    "**Beam properties: AFC-4**"
   ]
  },
  {
   "cell_type": "code",
   "execution_count": 17,
   "metadata": {},
   "outputs": [
    {
     "name": "stdout",
     "output_type": "stream",
     "text": [
      "## Project: AFC-4 \n",
      "## \n",
      "## Sidelobe  : 10.764413 \n",
      "## Major axis: 1.031002 \n",
      "## Minor axis: 0.930857 \n",
      "## AR: 0.979651 \n",
      "-------------\n",
      "\n"
     ]
    }
   ],
   "source": [
    "f = open(\"AFC-4-beam.txt\")\n",
    "print(f.read())\n",
    "f.close()"
   ]
  },
  {
   "cell_type": "markdown",
   "metadata": {},
   "source": [
    "**Beam properties: C43-4+ACA**"
   ]
  },
  {
   "cell_type": "code",
   "execution_count": 18,
   "metadata": {},
   "outputs": [
    {
     "name": "stdout",
     "output_type": "stream",
     "text": [
      "## Project: C43-4+ACA \n",
      "## \n",
      "## Sidelobe  : 16.244413 \n",
      "## Major axis: 1.026832 \n",
      "## Minor axis: 0.964831 \n",
      "## AR: 0.995349 \n",
      "-------------\n",
      "\n"
     ]
    }
   ],
   "source": [
    "f = open(\"C43-4+ACA-beam.txt\")\n",
    "print(f.read())\n",
    "f.close()"
   ]
  },
  {
   "cell_type": "markdown",
   "metadata": {},
   "source": [
    "-------------------------\n",
    "## AFC-5 vs. C43-5+7m"
   ]
  },
  {
   "cell_type": "code",
   "execution_count": 19,
   "metadata": {
    "scrolled": true
   },
   "outputs": [
    {
     "data": {
      "image/png": "[encoded data removed]",
      "text/plain": [
       "<matplotlib.figure.Figure at 0x7f01fa3660f0>"
      ]
     },
     "metadata": {},
     "output_type": "display_data"
    },
    {
     "name": "stdout",
     "output_type": "stream",
     "text": [
      "## Simulation: AFC-5\n",
      "## M1 : 0.215209\n",
      "## M2 : 0.118075\n",
      "## M3 : 0.104339\n",
      "## I : 0.214071 nats\n",
      "\n",
      "## Simulation: C43-5+ACA\n",
      "## M1 : 0.067912\n",
      "## M2 : 0.021222\n",
      "## M3 : 0.014587\n",
      "## I  : 0.154829 nats\n",
      "\n",
      " I ratio: 1.382625\n"
     ]
    }
   ],
   "source": [
    "analysis_image(5,\"AFC-5\")"
   ]
  },
  {
   "cell_type": "markdown",
   "metadata": {},
   "source": [
    "**Beam properties: AFC-5**"
   ]
  },
  {
   "cell_type": "code",
   "execution_count": 20,
   "metadata": {},
   "outputs": [
    {
     "name": "stdout",
     "output_type": "stream",
     "text": [
      "## Project: AFC-5 \n",
      "## \n",
      "## Sidelobe  : 9.285825 \n",
      "## Major axis: 0.604343 \n",
      "## Minor axis: 0.585970 \n",
      "## AR: 0.595086 \n",
      "-------------\n",
      "\n"
     ]
    }
   ],
   "source": [
    "f = open(\"AFC-5-beam.txt\")\n",
    "print(f.read())\n",
    "f.close()"
   ]
  },
  {
   "cell_type": "markdown",
   "metadata": {},
   "source": [
    "**Beam properties: C43-5+ACA**"
   ]
  },
  {
   "cell_type": "code",
   "execution_count": 21,
   "metadata": {},
   "outputs": [
    {
     "name": "stdout",
     "output_type": "stream",
     "text": [
      "## Project: C43-5+ACA \n",
      "## \n",
      "## Sidelobe  : 10.365462 \n",
      "## Major axis: 0.595495 \n",
      "## Minor axis: 0.576276 \n",
      "## AR: 0.585807 \n",
      "-------------\n",
      "\n"
     ]
    }
   ],
   "source": [
    "f = open(\"C43-5+ACA-beam.txt\")\n",
    "print(f.read())\n",
    "f.close()"
   ]
  },
  {
   "cell_type": "markdown",
   "metadata": {},
   "source": [
    "-------------------------\n",
    "## AFC-6 vs. C43-6+7m"
   ]
  },
  {
   "cell_type": "code",
   "execution_count": 22,
   "metadata": {
    "scrolled": false
   },
   "outputs": [
    {
     "data": {
      "image/png": "[encoded data removed]",
      "text/plain": [
       "<matplotlib.figure.Figure at 0x7f01fa214438>"
      ]
     },
     "metadata": {},
     "output_type": "display_data"
    },
    {
     "name": "stdout",
     "output_type": "stream",
     "text": [
      "## Simulation: AFC-6\n",
      "## M1 : 0.140627\n",
      "## M2 : 0.068016\n",
      "## M3 : 0.056473\n",
      "## I : 0.160945 nats\n",
      "\n",
      "## Simulation: C43-6+ACA\n",
      "## M1 : 0.038319\n",
      "## M2 : 0.009058\n",
      "## M3 : 0.005631\n",
      "## I  : 0.145624 nats\n",
      "\n",
      " I ratio: 1.105208\n"
     ]
    }
   ],
   "source": [
    "analysis_image(6,\"AFC-6\")"
   ]
  },
  {
   "cell_type": "markdown",
   "metadata": {},
   "source": [
    "**Beam properties: AFC-6**"
   ]
  },
  {
   "cell_type": "code",
   "execution_count": 23,
   "metadata": {},
   "outputs": [
    {
     "name": "stdout",
     "output_type": "stream",
     "text": [
      "## Project: AFC-1 \n",
      "## \n",
      "## Sidelobe  : 7.319113 \n",
      "## Major axis: 3.642370 \n",
      "## Minor axis: 2.172362 \n",
      "## AR: 2.812925 \n",
      "-------------\n",
      "\n"
     ]
    }
   ],
   "source": [
    "f = open(\"AFC-1-beam.txt\")\n",
    "print(f.read())\n",
    "f.close()"
   ]
  },
  {
   "cell_type": "markdown",
   "metadata": {},
   "source": [
    "**Beam properties: C43-6+ACA**"
   ]
  },
  {
   "cell_type": "code",
   "execution_count": 24,
   "metadata": {},
   "outputs": [
    {
     "name": "stdout",
     "output_type": "stream",
     "text": [
      "## Project: C43-1+ACA \n",
      "## \n",
      "## Sidelobe  : 7.389624 \n",
      "## Major axis: 3.609602 \n",
      "## Minor axis: 3.547820 \n",
      "## AR: 3.578577 \n",
      "-------------\n",
      "\n"
     ]
    }
   ],
   "source": [
    "f = open(\"C43-1+ACA-beam.txt\")\n",
    "print(f.read())\n",
    "f.close()"
   ]
  }
 ],
 "metadata": {
  "kernelspec": {
   "display_name": "Python 3",
   "language": "python",
   "name": "python3"
  },
  "language_info": {
   "codemirror_mode": {
    "name": "ipython",
    "version": 3
   },
   "file_extension": ".py",
   "mimetype": "text/x-python",
   "name": "python",
   "nbconvert_exporter": "python",
   "pygments_lexer": "ipython3",
   "version": "3.6.5"
  }
 },
 "nbformat": 4,
 "nbformat_minor": 2
}
