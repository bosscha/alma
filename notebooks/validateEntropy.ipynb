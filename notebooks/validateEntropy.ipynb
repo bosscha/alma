{
 "cells": [
  {
   "cell_type": "markdown",
   "metadata": {},
   "source": [
    "# Entropy (validation)\n",
    "\n",
    "Date : 22/06/2018  <br>\n",
    "Author : SL   <br>\n",
    "Code : https://github.com/bosscha/alma  <br>"
   ]
  },
  {
   "cell_type": "markdown",
   "metadata": {},
   "source": [
    "## Scope\n",
    "\n",
    "To validate (or not) we perform simulations with C43-X on a trial of sources and we compare the results with N random array configurations taken from the underlying pads. <br>\n",
    "We show the entropy analysis in this nb. <br>\n",
    "<br>\n",
    "Simulations produced by *runValidateEntropy.py*\n"
   ]
  },
  {
   "cell_type": "code",
   "execution_count": 201,
   "metadata": {},
   "outputs": [],
   "source": [
    "import os, shutil , glob , pickle\n",
    "import matplotlib.pyplot as pl\n",
    "from pylab import rcParams\n",
    "import numpy as np\n",
    "import math\n",
    "from sklearn.metrics import mutual_info_score\n",
    "from numpy import unique\n",
    "from scipy.stats import entropy as scipy_entropy\n",
    "\n",
    "\n",
    "from astropy.io import fits\n",
    "from astropy.stats import histogram\n",
    "from astropy.wcs import WCS\n",
    "\n",
    "\n",
    "%matplotlib inline\n",
    "\n",
    "RAD2ARCSEC = 180. / math.pi"
   ]
  },
  {
   "cell_type": "code",
   "execution_count": 202,
   "metadata": {},
   "outputs": [],
   "source": [
    "def MutualInformation(im1, im2, binsize = 20):\n",
    "    \"Compute the mutual information between im1 and im2\"\n",
    "    \n",
    "    \n",
    "    hgram, x_edges, y_edges = np.histogram2d(im1.ravel(), im2.ravel(), bins = binsize)\n",
    "    \n",
    "    pxy = hgram / float(np.sum(hgram))\n",
    "    px = np.sum(pxy, axis=1) # marginal for x over y\n",
    "    py = np.sum(pxy, axis=0) # marginal for y over x\n",
    "    px_py = px[:, None] * py[None, :]\n",
    "    nzs = pxy > 0 # Only non-zero pxy values contribute to the sum\n",
    "    mi = np.sum(pxy[nzs] * np.log(pxy[nzs] / px_py[nzs]))\n",
    "    \n",
    "    return(mi)"
   ]
  },
  {
   "cell_type": "code",
   "execution_count": 203,
   "metadata": {},
   "outputs": [],
   "source": [
    "def isFitsN(n):\n",
    "    \"Check if fits n is in the products directory. rootname s the string basis of the fits\"\n",
    "    \n",
    "    fitsname = \"simRan.compskymodel.flat.regrid.conv.fits.%d\"%(n)\n",
    "    \n",
    "    if os.path.exists(fitsname):\n",
    "        return(True)\n",
    "    else :\n",
    "        return(False)    "
   ]
  },
  {
   "cell_type": "code",
   "execution_count": 204,
   "metadata": {},
   "outputs": [],
   "source": [
    "def compute_mistats(arrStdName, binsize = 20, resClipping = False, Tol = 0.1):\n",
    "    \"Compute the MI for the trial and arrStdName\"\n",
    "    \n",
    "    \n",
    "    miTarget = []\n",
    "    miRandom = []\n",
    "    resRandom = []\n",
    "    nantRandom = []\n",
    "    \n",
    "    index = 0\n",
    "    while(isFitsN(index)):\n",
    "        sim1   = \"%s.image.fits.%d\"%(arrStdName,index)\n",
    "        model1 = \"%s.compskymodel.flat.regrid.conv.fits.%d\"%(arrStdName,index)   \n",
    "        with fits.open(model1) as m1:\n",
    "            in1 = m1[0].data\n",
    "            bmin1 = m1[0].header['bmin'] * 3600.\n",
    "            bmaj1 = m1[0].header['bmaj'] * 3600.\n",
    "            bres1 = math.sqrt(bmin1 * bmaj1)\n",
    "            \n",
    "        with fits.open(sim1) as s1:\n",
    "            out1 = s1[0].data\n",
    "        mi1  = MutualInformation(in1 , out1 , binsize)  \n",
    " \n",
    "        \n",
    "        sim2   = \"simRan.image.fits.%d\"%(index)\n",
    "        model2 = \"simRan.compskymodel.flat.regrid.conv.fits.%d\"%(index)    \n",
    "        with fits.open(model2) as m2:\n",
    "            in2 = m2[0].data\n",
    "            nant = m2[0].header['nants']\n",
    "            bmin2 = m2[0].header['bmin'] * 3600.\n",
    "            bmaj2 = m2[0].header['bmaj'] * 3600.\n",
    "            bres2 = math.sqrt(bmin2 * bmaj2)\n",
    "\n",
    "        \n",
    "        with fits.open(sim2) as s2:\n",
    "            out2 = s2[0].data\n",
    "        mi2  = MutualInformation(in2 , out2, binsize)\n",
    "        \n",
    "        diffRes = abs(bres2-bres1) / bres1\n",
    "        miTarget.append(mi1)\n",
    "        if resClipping and diffRes < Tol:\n",
    "            miRandom.append(mi2)\n",
    "            resRandom.append(bres2)\n",
    "            nantRandom.append(nant)\n",
    "            \n",
    "        if not resClipping:\n",
    "            miRandom.append(mi2)\n",
    "            resRandom.append(bres2)\n",
    "            nantRandom.append(nant)\n",
    "        \n",
    "        index += 1\n",
    "        \n",
    "        \n",
    "    print(\"## %d images found\"%(len(miRandom)))\n",
    "    return(miTarget, miRandom, resRandom, nantRandom, bres1)    "
   ]
  },
  {
   "cell_type": "code",
   "execution_count": 205,
   "metadata": {},
   "outputs": [],
   "source": [
    "def pickle_result(filename, data):  \n",
    "    with open(filename, 'w') as f:\n",
    "        # Pickle the 'data' dictionary using the highest protocol available.\n",
    "        pickle.dump(data, f, pickle.HIGHEST_PROTOCOL)"
   ]
  },
  {
   "cell_type": "code",
   "execution_count": 206,
   "metadata": {},
   "outputs": [],
   "source": [
    "def read_pickle(filename):\n",
    "    with open(filename, 'rb') as f:\n",
    "        data = pickle.load(f)\n",
    "        \n",
    "    return(data)"
   ]
  },
  {
   "cell_type": "markdown",
   "metadata": {},
   "source": [
    "### Analysis ...\n",
    "\n",
    "The clip boolean allows to select the random array in a resolution range close to the target resolution (within the tolerance Tol)"
   ]
  },
  {
   "cell_type": "code",
   "execution_count": 207,
   "metadata": {},
   "outputs": [],
   "source": [
    "# wdir = \"/home/stephane/Science/ALMA/ArrayConfig/imaging/fullcombination/simEntropy/products\"\n",
    "wdir = \"/home/stephane/Science/ALMA/ArrayConfig/imaging/entropy/simentropy/products\"\n",
    "# wdir = \"/home/stephane/Science/ALMA/ArrayConfig/imaging/fullcombination/simulationEntropy/products\"\n",
    "os.chdir(wdir)"
   ]
  },
  {
   "cell_type": "code",
   "execution_count": 208,
   "metadata": {},
   "outputs": [
    {
     "name": "stdout",
     "output_type": "stream",
     "text": [
      "## 19 images found\n",
      "## no clipping\n",
      "\n",
      "## Target MI:\n",
      "## Mean: 0.011579\n",
      "## Std: 0.005217\n",
      "## RES: 1.760980\n",
      "\n",
      "## Random MI:\n",
      "## Mean: 0.011438\n",
      "## Std: 0.007317\n",
      "## RES(mean): 2.093374\n"
     ]
    },
    {
     "data": {
      "image/png": "[encoded data removed]",
      "text/plain": [
       "<matplotlib.figure.Figure at 0x7f2f73f80da0>"
      ]
     },
     "metadata": {},
     "output_type": "display_data"
    }
   ],
   "source": [
    "clip = False\n",
    "tolerance = 0.1\n",
    "bin = 10\n",
    "miTarget , miRandom, resRandom, nantRandom , resTarget = compute_mistats(\"alma.cycle2.3\", resClipping = clip, Tol = tolerance, binsize = bin)\n",
    "\n",
    "if  clip :\n",
    "    print(\"## Clipping in resolution to %3.1f%%\"%(tolerance*100.))\n",
    "else:\n",
    "    print(\"## no clipping\")\n",
    "    \n",
    "tarnp = np.array(miTarget)\n",
    "print(\"\\n## Target MI:\")\n",
    "print(\"## Mean: %f\"%(tarnp.mean()))\n",
    "print(\"## Std: %f\"%(tarnp.std()))\n",
    "print(\"## RES: %f\"%(resTarget))\n",
    "print()\n",
    "\n",
    "rannp  = np.array(miRandom)\n",
    "ranres = np.array(resRandom)\n",
    "\n",
    "print(\"## Random MI:\")\n",
    "print(\"## Mean: %f\"%(rannp.mean()))\n",
    "print(\"## Std: %f\"%(rannp.std()))\n",
    "print(\"## RES(mean): %f\"%(ranres.mean()))\n",
    "\n",
    "rcParams['figure.figsize'] = 15, 10.0\n",
    "\n",
    "mimax  = max(miRandom)\n",
    "mimax = 0.025\n",
    "nantmax = 35\n",
    "pdfmax = 200\n",
    "tarmean = tarnp.mean()\n",
    "tarstd = tarnp.std()\n",
    "\n",
    "pl.subplot(2, 2, 1)\n",
    "n1, bins1, patches1 = pl.hist(miTarget, 30, density=True, range = (0., mimax), facecolor='g', alpha=0.4, label = \"C34-3\", hatch =\"//\")\n",
    "n2, bins2, patches2 = pl.hist(miRandom, 30, density=True, range = (0., mimax), facecolor='r', alpha=0.6, label = \"Random\")\n",
    "pl.xlabel('MI')\n",
    "pl.ylabel('Probability')\n",
    "pl.axis([0., mimax, 0, 200.0])\n",
    "pl.legend(loc = \"upper right\")\n",
    "\n",
    "pl.subplot(2, 2, 2)\n",
    "pl.plot(nantRandom , miRandom, \"r*\", label = \"Random\")\n",
    "pl.plot([0,nantmax],[tarmean,tarmean], \"g-\", label = \"C34-3\")\n",
    "pl.plot([0,nantmax],[tarmean+tarstd,tarmean+tarstd], \"g--\")\n",
    "pl.plot([0,nantmax],[tarmean-tarstd,tarmean-tarstd], \"g--\")\n",
    "pl.xlabel('NANT')\n",
    "pl.ylabel('Probability')\n",
    "pl.axis([0., nantmax, 0, mimax])\n",
    "pl.legend(loc = \"upper right\")\n",
    "\n",
    "pl.subplot(2, 2, 3)\n",
    "n2, bins2, patches2 = pl.hist(resRandom, 30, density=True, facecolor='r', alpha=0.5, label = \"Random\")\n",
    "pl.xlabel('resolution (arcsec)')\n",
    "pl.ylabel('Probability')\n",
    "pl.plot([resTarget,resTarget],[0.,1000], \"g-\")\n",
    "pl.axis([1.0, 2.5, 0, 10.0])\n",
    "pl.legend(loc = \"upper right\")\n",
    "pl.show()"
   ]
  }
 ],
 "metadata": {
  "kernelspec": {
   "display_name": "Python 3",
   "language": "python",
   "name": "python3"
  },
  "language_info": {
   "codemirror_mode": {
    "name": "ipython",
    "version": 3
   },
   "file_extension": ".py",
   "mimetype": "text/x-python",
   "name": "python",
   "nbconvert_exporter": "python",
   "pygments_lexer": "ipython3",
   "version": "3.6.5"
  }
 },
 "nbformat": 4,
 "nbformat_minor": 2
}
